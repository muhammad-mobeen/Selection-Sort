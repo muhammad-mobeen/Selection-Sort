{
  "nbformat": 4,
  "nbformat_minor": 0,
  "metadata": {
    "colab": {
      "name": "Selection_Sort.ipynb",
      "provenance": [],
      "authorship_tag": "ABX9TyOozPXZh7y446NU5xUslv/i",
      "include_colab_link": true
    },
    "kernelspec": {
      "name": "python3",
      "display_name": "Python 3"
    },
    "language_info": {
      "name": "python"
    }
  },
  "cells": [
    {
      "cell_type": "markdown",
      "metadata": {
        "id": "view-in-github",
        "colab_type": "text"
      },
      "source": [
        "<a href=\"https://colab.research.google.com/github/muhammad-mobeen/Selection-Sort/blob/main/Selection_Sort.ipynb\" target=\"_parent\"><img src=\"https://colab.research.google.com/assets/colab-badge.svg\" alt=\"Open In Colab\"/></a>"
      ]
    },
    {
      "cell_type": "code",
      "execution_count": 20,
      "metadata": {
        "id": "o4ZsmPOEag3C"
      },
      "outputs": [],
      "source": [
        "#Selection Sort Algorithm in Action\n",
        "def selectionSort(arr):\n",
        "  for i in range(len(arr)):\n",
        "    min = i\n",
        "    for j in range(i+1, len(arr)):\n",
        "      if arr[min] > arr[j]:\n",
        "        min = j\n",
        "    arr[i], arr[min] = arr[min], arr[i]"
      ]
    },
    {
      "cell_type": "code",
      "source": [
        "#Selection Sort Algorithm in Action\n",
        "def revSelectionSort(arr):\n",
        "  for i in range(len(arr)):\n",
        "    min = i\n",
        "    for j in range(i+1, len(arr)):\n",
        "      if arr[min] < arr[j]:\n",
        "        min = j\n",
        "    arr[i], arr[min] = arr[min], arr[i]"
      ],
      "metadata": {
        "id": "FVjc0WJwhPXB"
      },
      "execution_count": 21,
      "outputs": []
    },
    {
      "cell_type": "code",
      "source": [
        "#Initializing Array\n",
        "arr = [64, 25, 12, 22, 11]\n",
        "alpha_arr = [\"m\", \"o\", \"b\", \"e\", \"e\", \"n\"]"
      ],
      "metadata": {
        "id": "O262rGpebXzJ"
      },
      "execution_count": 22,
      "outputs": []
    },
    {
      "cell_type": "code",
      "source": [
        "#Calling Selection Sort Function\n",
        "selectionSort(arr)\n",
        "print(arr)"
      ],
      "metadata": {
        "id": "GwAL4fVahe1t"
      },
      "execution_count": null,
      "outputs": []
    },
    {
      "cell_type": "code",
      "source": [
        "#Calling Selection Sort Function\n",
        "revSelectionSort(arr)\n",
        "print(arr)"
      ],
      "metadata": {
        "id": "7epIubaYiqdB"
      },
      "execution_count": null,
      "outputs": []
    },
    {
      "cell_type": "code",
      "source": [
        "#Calling Selection Sort Function\n",
        "selectionSort(alpha_arr)\n",
        "print(alpha_arr)"
      ],
      "metadata": {
        "id": "wbAfLLhcdcZ3"
      },
      "execution_count": null,
      "outputs": []
    },
    {
      "cell_type": "code",
      "source": [
        "#Calling Selection Sort Function\n",
        "revSelectionSort(alpha_arr)\n",
        "print(alpha_arr)"
      ],
      "metadata": {
        "id": "5xt-cGLvivme"
      },
      "execution_count": null,
      "outputs": []
    }
  ]
}